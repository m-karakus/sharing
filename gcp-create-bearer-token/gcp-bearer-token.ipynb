{
 "cells": [
  {
   "cell_type": "markdown",
   "metadata": {},
   "source": [
    "# Create Bearer Token from service account key json file "
   ]
  },
  {
   "cell_type": "code",
   "execution_count": 71,
   "metadata": {},
   "outputs": [],
   "source": [
    "import requests\n",
    "import jwt\n",
    "import time\n",
    "import json\n",
    "\n",
    "def get_jwt_token(key_json_file, scope):\n",
    "    with open(key_json_file) as f:\n",
    "        data = json.load(f)\n",
    "\n",
    "    private_key = data[\"private_key\"]\n",
    "    sa_email = data[\"client_email\"]\n",
    "\n",
    "    iat = time.time()\n",
    "    exp = iat + 3600\n",
    "    payload = {'iss': sa_email,\n",
    "            'sub': sa_email,\n",
    "            'aud': 'https://www.googleapis.com/oauth2/v4/token',\n",
    "            'scope': \" \".join(scope),\n",
    "            'iat': iat,\n",
    "            'exp': exp}\n",
    "    additional_headers = {'kid': private_key}\n",
    "    signed_jwt = jwt.encode(\n",
    "        payload, private_key, \n",
    "        headers=additional_headers,\n",
    "        algorithm='RS256'\n",
    "        )\n",
    "    return signed_jwt.decode(\"utf-8\") \n",
    "\n",
    "def get_access_token(key_json_file, scope):\n",
    "    jwt_token = get_jwt_token(key_json_file, scope)\n",
    "\n",
    "    url = 'https://www.googleapis.com/oauth2/v4/token'\n",
    "    headers = {'Content-Type': 'application/x-www-form-urlencoded',}\n",
    "    data={\n",
    "        'grant_type': 'urn:ietf:params:oauth:grant-type:jwt-bearer',\n",
    "        'assertion': jwt_token\n",
    "        }\n",
    "\n",
    "    token = requests.post(url,headers=headers, data=data).json()['access_token']\n",
    "    return token\n"
   ]
  },
  {
   "cell_type": "code",
   "execution_count": 72,
   "metadata": {},
   "outputs": [
    {
     "data": {
      "text/plain": [
       "'ya29.c.b0AXv0zTMBcEKlG6-tTNJs-sROMMXfWsfkmNhMxHVbx5rMfFjD-S_hpr3sqB_rimnj2WN8b9O23ag7LATw_drE1Uee3jdwMl-nv2NJkb18qgwciUoHhrNVXaGHufhk2L_O0XO_PPjdI-rgcoNY_Fb_IswujQ1_ulg25Vlq3V1RqjBmZEgHIqNGDbZtBrP_rKjakyCXlh-2LIIWTUklrC70js6WbR2ZAkNtWD0UfV9238P0y8Vn.......................................................................................................................................................................................................................................................................................................................................................................................................................................................................................................................................................................................................................................................................................................................................................................................................'"
      ]
     },
     "execution_count": 72,
     "metadata": {},
     "output_type": "execute_result"
    }
   ],
   "source": [
    "get_access_token(\n",
    "    'service-account-key.json', \n",
    "    [\n",
    "        'https://www.googleapis.com/auth/tagmanager.edit.containers', \n",
    "        'https://www.googleapis.com/auth/tagmanager.delete.containers',\n",
    "        'https://www.googleapis.com/auth/tagmanager.readonly',\n",
    "        'https://www.googleapis.com/auth/tagmanager.edit.containerversions',\n",
    "        'https://www.googleapis.com/auth/tagmanager.publish',\n",
    "        'https://www.googleapis.com/auth/tagmanager.manage.users',\n",
    "        'https://www.googleapis.com/auth/tagmanager.manage.accounts'\n",
    "        ]\n",
    "    )"
   ]
  },
  {
   "cell_type": "code",
   "execution_count": null,
   "metadata": {},
   "outputs": [],
   "source": []
  }
 ],
 "metadata": {
  "kernelspec": {
   "display_name": "Python 3.10.4 ('3104')",
   "language": "python",
   "name": "python3"
  },
  "language_info": {
   "codemirror_mode": {
    "name": "ipython",
    "version": 3
   },
   "file_extension": ".py",
   "mimetype": "text/x-python",
   "name": "python",
   "nbconvert_exporter": "python",
   "pygments_lexer": "ipython3",
   "version": "3.10.5"
  },
  "orig_nbformat": 4,
  "vscode": {
   "interpreter": {
    "hash": "2fccfef6de30eb59767b31244f817a0196d64b5e43793416edf849b4402a2f8d"
   }
  }
 },
 "nbformat": 4,
 "nbformat_minor": 2
}
